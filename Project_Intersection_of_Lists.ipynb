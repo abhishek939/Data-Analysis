{
  "nbformat": 4,
  "nbformat_minor": 0,
  "metadata": {
    "kernelspec": {
      "display_name": "Python 3",
      "language": "python",
      "name": "python3"
    },
    "language_info": {
      "codemirror_mode": {
        "name": "ipython",
        "version": 3
      },
      "file_extension": ".py",
      "mimetype": "text/x-python",
      "name": "python",
      "nbconvert_exporter": "python",
      "pygments_lexer": "ipython3",
      "version": "3.7.1"
    },
    "colab": {
      "name": "Project - Intersection of Lists.ipynb",
      "provenance": [],
      "collapsed_sections": [],
      "include_colab_link": true
    }
  },
  "cells": [
    {
      "cell_type": "markdown",
      "metadata": {
        "id": "view-in-github",
        "colab_type": "text"
      },
      "source": [
        "<a href=\"https://colab.research.google.com/github/abhishek939/Data-Analysis/blob/main/Project_Intersection_of_Lists.ipynb\" target=\"_parent\"><img src=\"https://colab.research.google.com/assets/colab-badge.svg\" alt=\"Open In Colab\"/></a>"
      ]
    },
    {
      "cell_type": "markdown",
      "metadata": {
        "id": "rtBrwN-Aexbo"
      },
      "source": [
        "Given a list of n lists, write a function which returns the intersection of all the n lists. Each list can have any number of elements.\n",
        "\n",
        "Example 1:\n",
        "\n",
        "```\n",
        "input = [[5, 5, 5, 8, 10], \n",
        "      [5, 5, 7, 8], \n",
        "      [5, 5, 8, 9, 11]]\n",
        "```\n",
        "\n",
        "```\n",
        "output = [5, 5, 8]\n",
        "```\n",
        "\n",
        "Example 2:\n",
        "\n",
        "```\n",
        "input = [[5, 6], \n",
        "      [5, 5, 7, 8], \n",
        "      [5, 5, 8, 9]]\n",
        "```\n",
        "\n",
        "\n",
        "```\n",
        "output = [5]\n",
        "```"
      ]
    },
    {
      "cell_type": "code",
      "source": [
        "def min_length_list(list_of_list):\n",
        "  '''this function is used to find out the list with min length'''\n",
        "  min_length_list = list_of_list[0]\n",
        "  for i in list_of_list:\n",
        "    if(len(i)<len(min_length_list)):\n",
        "      min_length_list=i\n",
        "\n",
        "  return min_length_list"
      ],
      "metadata": {
        "id": "ANb6BJW1Npbv"
      },
      "execution_count": 28,
      "outputs": []
    },
    {
      "cell_type": "code",
      "source": [
        "def get_frequency_map(list_i):\n",
        "  '''this function provide us the dictionary with all element of the list with their no of occurance'''\n",
        "  frequency_map ={}\n",
        "  for i in list_i:\n",
        "    if i in frequency_map.keys():\n",
        "      frequency_map[i] += 1\n",
        "    else:\n",
        "      frequency_map[i] = 1\n",
        "\n",
        "  return frequency_map"
      ],
      "metadata": {
        "id": "i3kLSBfbQChd"
      },
      "execution_count": 29,
      "outputs": []
    },
    {
      "cell_type": "code",
      "source": [
        "def creat_list_from_feq_map(fre_map):\n",
        "  '''this func creats a list from an dictionary map'''\n",
        "  fre_list = []\n",
        "  for key,value in fre_map.items():\n",
        "    fre_list += [key]*value\n",
        "\n",
        "  return fre_list\n"
      ],
      "metadata": {
        "id": "ZuPPxnhVBFRt"
      },
      "execution_count": 30,
      "outputs": []
    },
    {
      "cell_type": "code",
      "source": [
        "def intersection(input):\n",
        "  ''' This funtion gives away the intersection of list of lists'''\n",
        "  if len(input)==0:\n",
        "    return []\n",
        "  min_len_list_feq_map = get_frequency_map(min_length_list(input))\n",
        "  for key,value in min_len_list_feq_map.items():\n",
        "    for list_ in input:\n",
        "      if(value>list_.count(key)):\n",
        "        min_len_list_feq_map[key] = list_.count(key)\n",
        "  result = creat_list_from_feq_map(min_len_list_feq_map)\n",
        "  return result"
      ],
      "metadata": {
        "id": "6wPimJJ8SkBY"
      },
      "execution_count": 34,
      "outputs": []
    },
    {
      "cell_type": "code",
      "source": [
        "input = [[5, 5, 5, 8, 10], \n",
        "      [5, 5, 7, 8], \n",
        "      [5, 5, 8, 9, 11]]\n",
        "\n",
        "intersection(input)"
      ],
      "metadata": {
        "colab": {
          "base_uri": "https://localhost:8080/"
        },
        "id": "LDosa2gOP5jw",
        "outputId": "abd0e43d-0490-495f-932c-d6639a2b8b9c"
      },
      "execution_count": 32,
      "outputs": [
        {
          "output_type": "execute_result",
          "data": {
            "text/plain": [
              "[5, 5, 8]"
            ]
          },
          "metadata": {},
          "execution_count": 32
        }
      ]
    },
    {
      "cell_type": "code",
      "source": [
        "input = [[5, 6], \n",
        "      [5, 5, 7, 8], \n",
        "      [5, 5, 8, 9]]\n",
        "\n",
        "intersection(input)"
      ],
      "metadata": {
        "colab": {
          "base_uri": "https://localhost:8080/"
        },
        "id": "XEjrp_u9ItGA",
        "outputId": "0681e19d-b523-4722-a4b5-f28225d4321c"
      },
      "execution_count": 33,
      "outputs": [
        {
          "output_type": "execute_result",
          "data": {
            "text/plain": [
              "[5]"
            ]
          },
          "metadata": {},
          "execution_count": 33
        }
      ]
    },
    {
      "cell_type": "code",
      "source": [
        ""
      ],
      "metadata": {
        "id": "V7I8ia-NIzw_"
      },
      "execution_count": null,
      "outputs": []
    }
  ]
}